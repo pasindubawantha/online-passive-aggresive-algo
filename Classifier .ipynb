{
 "cells": [
  {
   "cell_type": "code",
   "execution_count": 1,
   "metadata": {},
   "outputs": [
    {
     "data": {
      "text/html": [
       "<script type=\"text/javascript\">window.PlotlyConfig = {MathJaxConfig: 'local'};</script><script type=\"text/javascript\">if (window.MathJax) {MathJax.Hub.Config({SVG: {font: \"STIX-Web\"}});}</script><script>requirejs.config({paths: { 'plotly': ['https://cdn.plot.ly/plotly-latest.min']},});if(!window._Plotly) {require(['plotly'],function(plotly) {window._Plotly=plotly;});}</script>"
      ],
      "text/vnd.plotly.v1+html": [
       "<script type=\"text/javascript\">window.PlotlyConfig = {MathJaxConfig: 'local'};</script><script type=\"text/javascript\">if (window.MathJax) {MathJax.Hub.Config({SVG: {font: \"STIX-Web\"}});}</script><script>requirejs.config({paths: { 'plotly': ['https://cdn.plot.ly/plotly-latest.min']},});if(!window._Plotly) {require(['plotly'],function(plotly) {window._Plotly=plotly;});}</script>"
      ]
     },
     "metadata": {},
     "output_type": "display_data"
    }
   ],
   "source": [
    "import warnings\n",
    "import itertools\n",
    "import pandas\n",
    "import math\n",
    "import sys\n",
    "import os\n",
    "import numpy as np\n",
    "from plotly.offline import download_plotlyjs, init_notebook_mode, plot, iplot\n",
    "init_notebook_mode(connected=True)"
   ]
  },
  {
   "cell_type": "markdown",
   "metadata": {},
   "source": [
    "#  Attribute                     Domain\n",
    "   -- -----------------------------------------\n",
    "   1. Sample code number            id number\n",
    "   2. Clump Thickness               1 - 10\n",
    "   3. Uniformity of Cell Size       1 - 10\n",
    "   4. Uniformity of Cell Shape      1 - 10\n",
    "   5. Marginal Adhesion             1 - 10\n",
    "   6. Single Epithelial Cell Size   1 - 10\n",
    "   7. Bare Nuclei                   1 - 10\n",
    "   8. Bland Chromatin               1 - 10\n",
    "   9. Normal Nucleoli               1 - 10\n",
    "  10. Mitoses                       1 - 10\n",
    "  11. Class:                        (2 for benign, 4 for malignant)\n"
   ]
  },
  {
   "cell_type": "code",
   "execution_count": 11,
   "metadata": {},
   "outputs": [],
   "source": [
    "data_file = \"datafile.csv\"\n",
    "data = pandas.read_csv(data_file, \n",
    "                       header=None, \n",
    "                       names=[\"id\",\n",
    "                              \"clump_thickness\",\n",
    "                              \"cell_size_uniformity\",\n",
    "                              \"cell_shape_uniformity\",\n",
    "                              \"marginal_adhesion\",\n",
    "                              \"single_epithelial_cell_size\",\n",
    "                              \"bare_nuclei\",\n",
    "                              \"bland_chromatin\",\n",
    "                              \"normal_nucleoli\",\n",
    "                              \"mitoses\",\n",
    "                              \"class\"])\n",
    "data = data.replace('?',0)"
   ]
  },
  {
   "cell_type": "code",
   "execution_count": 27,
   "metadata": {},
   "outputs": [],
   "source": [
    "# display(data)\n",
    "x = [np.array(data[\"clump_thickness\"]),\n",
    "     np.array(data[\"cell_size_uniformity\"]),\n",
    "     np.array(data[\"cell_shape_uniformity\"]),\n",
    "     np.array(data[\"marginal_adhesion\"]),\n",
    "     np.array(data[\"single_epithelial_cell_size\"]),\n",
    "     np.array(data[\"bare_nuclei\"]),\n",
    "     np.array(data[\"bland_chromatin\"]),\n",
    "     np.array(data[\"normal_nucleoli\"]),\n",
    "     np.array(data[\"mitoses\"])]\n",
    "\n",
    "y = np.array(data[\"class\"])\n",
    "y = np.where(y==2, -1, y)\n",
    "y = np.where(y==4, 1, y)\n",
    "\n",
    "training_data_ratio = 2/3\n",
    "training_data_size = int(training_ratio*len(y))\n",
    "\n",
    "training_y = y[:training_data_size]\n",
    "testing_y = y[training_data_size:]\n",
    "\n",
    "training_x = [[] for i in range(0,len(x))]\n",
    "testing_x = [[] for i in range(0,len(x))]\n",
    "for i in range(0,len(x)):\n",
    "    training_x[i] = x[i][:training_data_size]\n",
    "    testing_x[i] = x[i][training_data_size:]"
   ]
  },
  {
   "cell_type": "code",
   "execution_count": 32,
   "metadata": {},
   "outputs": [
    {
     "name": "stdout",
     "output_type": "stream",
     "text": [
      "[ 5  5  3  6  4  8  1  2  2  4  1  2  5  1  8  7  4  4 10  6  7 10  3  8\n",
      "  1  5  3  5  2  1  3  2 10  2  3  2 10  6  5  2  6 10  6  5 10  1  3  1\n",
      "  4  7  9  5 10  5 10 10  8  8  5  9  5  1  9  6  1 10  4  5  8  1  5  6\n",
      "  1  9 10  1  1  5  3  2  2  4  5  3  3  5  3  3  4  2  1  3  4  1  2  1\n",
      "  2  5  9  7 10  2  4  8 10  7 10  1  1  6  1  8 10 10  3  1  8  4  1  3\n",
      "  1  4 10  5  5  1  7  3  8  1  5  2  5  3  3  5  4  3  4  1  3  2  9  1\n",
      "  2  1  3  1  3  8  1  7 10  4  1  5  1  2  1  9 10  4  3  1  5  4  5 10\n",
      "  3  1  3  1  1  6  8  5  2  5  4  5  1  1  6  5  8  2  1 10  5  1 10  7\n",
      "  5  1  3  4  8  5  1  3  9 10  1  5  1  5 10  1  1  5  8  8  1 10 10  8\n",
      "  1  1  6  6  1 10  4  7 10  1 10  8  1 10  7  6  8 10  3  3 10  9  8 10\n",
      "  5  3  2  1  1  5  8  8  4  3  1 10  6  6  9  5  3  3  3  5 10  5  8 10\n",
      "  7  5 10  3 10  1  8  5  3  7  3  3  3  1  1 10  3  2  1 10  7  8 10  3\n",
      "  6  5  1  1  8 10  1  5  5  5  8  9  8  1 10  1  8 10  1  1  7  3  2  1\n",
      "  8  1  1  4  5  6  1  4  7  3  3  5  1  3 10  1  8 10 10  5  5  5  8  1\n",
      "  6  1  1  8 10  1  2  1  7  1  5  1  3  4  5  2  3  2  1  4  5  8  8 10\n",
      "  6  3  3  4  2  2  6  5  1  1  4  1  4  5  3  1  1  1  3  5  1 10  3  2\n",
      "  2  3  7  5  2  5  1 10  3  1  1  3  3  4  3  1  3  3  5  3  1  1  4  1\n",
      "  2  3  1  1 10  5  8  3  8  1  5  2  3 10  4  5  3  9  5  8  1  2  1  5\n",
      "  5  3  6 10 10  4  4  5 10  5  1  1  5  2  1  5  1  5  4  5  3  4  2 10\n",
      " 10  8  5  5  5  3  6  4  4 10]\n"
     ]
    }
   ],
   "source": [
    "print(training_x[0])"
   ]
  },
  {
   "cell_type": "code",
   "execution_count": null,
   "metadata": {},
   "outputs": [],
   "source": []
  }
 ],
 "metadata": {
  "kernelspec": {
   "display_name": "Python 3",
   "language": "python",
   "name": "python3"
  },
  "language_info": {
   "codemirror_mode": {
    "name": "ipython",
    "version": 3
   },
   "file_extension": ".py",
   "mimetype": "text/x-python",
   "name": "python",
   "nbconvert_exporter": "python",
   "pygments_lexer": "ipython3",
   "version": "3.5.2"
  }
 },
 "nbformat": 4,
 "nbformat_minor": 2
}
